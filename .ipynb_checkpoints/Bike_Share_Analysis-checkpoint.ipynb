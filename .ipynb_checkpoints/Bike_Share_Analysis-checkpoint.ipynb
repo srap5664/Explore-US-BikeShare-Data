{
 "cells": [
  {
   "cell_type": "markdown",
   "metadata": {},
   "source": [
    "# 2016 US Bike Share Activity Snapshot\n",
    "\n",
    "## Table of Contents\n",
    "- [Introduction](#intro)\n",
    "- [Posing Questions](#pose_questions)\n",
    "- [Data Collection and Wrangling](#wrangling)\n",
    "  - [Condensing the Trip Data](#condensing)\n",
    "- [Exploratory Data Analysis](#eda)\n",
    "  - [Statistics](#statistics)\n",
    "  - [Visualizations](#visualizations)\n",
    "- [Performing Your Own Analysis](#eda_continued)\n",
    "- [Conclusions](#conclusions)\n",
    "\n",
    "<a id='intro'></a>\n",
    "## Introduction\n",
    "\n",
    "Over the past decade, bicycle-sharing systems have been growing in number and popularity in cities across the world. Bicycle-sharing systems allow users to rent bicycles for short trips, typically 30 minutes or less. Thanks to the rise in information technologies, it is easy for a user of the system to access a dock within the system to unlock or return bicycles. These technologies also provide a wealth of data that can be used to explore how these bike-sharing systems are used.\n",
    "\n",
    "In this project, we will perform an exploratory analysis on data provided by [Motivate](https://www.motivateco.com/), a bike-share system provider for many major cities in the United States. we will compare the system usage between three large cities: New York City, Chicago, and Washington, DC. we will also see if there are any differences within each system for those users that are registered, regular users and those users that are short-term, casual users."
   ]
  },
  {
   "cell_type": "markdown",
   "metadata": {},
   "source": [
    "<a id='pose_questions'></a>\n",
    "## Posing Questions\n",
    "\n",
    "Before looking at the bike sharing data, we should start by asking questions we might want to understand about the bike share data. Consider, for example, if you were working for Motivate.<br>\n",
    "What kinds of information would you want to know about in order to make smarter business decisions?<br>\n",
    "If you were a user of the bike-share service, what factors might influence how you would want to use the service?\n",
    "\n",
    "#### Questions to be investigated\n",
    "* How long the avarge user use the bike for ?\n",
    "* Which one of the cities has more active users ?\n",
    "* How long distance the averge user drive the bike for ?\n"
   ]
  },
  {
   "cell_type": "markdown",
   "metadata": {},
   "source": [
    "<a id='wrangling'></a>\n",
    "## Data Collection and Wrangling\n",
    "\n",
    "Now it's time to collect and explore our data. In this project, we will focus on the record of individual trips taken in 2016 from our selected cities: New York City, Chicago, and Washington, DC. Each of these cities has a page where we can freely download the trip data.:\n",
    "\n",
    "- New York City (Citi Bike): [Link](https://www.citibikenyc.com/system-data)\n",
    "- Chicago (Divvy): [Link](https://www.divvybikes.com/system-data)\n",
    "- Washington, DC (Capital Bikeshare): [Link](https://www.capitalbikeshare.com/system-data)\n"
   ]
  },
  {
   "cell_type": "code",
   "execution_count": 1,
   "metadata": {},
   "outputs": [],
   "source": [
    "## import all necessary packages and functions.\n",
    "import csv # read and write csv files\n",
    "from datetime import datetime # operations to parse dates\n",
    "from pprint import pprint # use to print data structures like dictionaries in\n",
    "                          # a nicer way than the base print function."
   ]
  },
  {
   "cell_type": "code",
   "execution_count": 2,
   "metadata": {},
   "outputs": [
    {
     "name": "stdout",
     "output_type": "stream",
     "text": [
      "\n",
      "City: NYC\n",
      "OrderedDict([('tripduration', '839'),\n",
      "             ('starttime', '1/1/2016 00:09:55'),\n",
      "             ('stoptime', '1/1/2016 00:23:54'),\n",
      "             ('start station id', '532'),\n",
      "             ('start station name', 'S 5 Pl & S 4 St'),\n",
      "             ('start station latitude', '40.710451'),\n",
      "             ('start station longitude', '-73.960876'),\n",
      "             ('end station id', '401'),\n",
      "             ('end station name', 'Allen St & Rivington St'),\n",
      "             ('end station latitude', '40.72019576'),\n",
      "             ('end station longitude', '-73.98997825'),\n",
      "             ('bikeid', '17109'),\n",
      "             ('usertype', 'Customer'),\n",
      "             ('birth year', ''),\n",
      "             ('gender', '0')])\n",
      "\n",
      "City: Chicago\n",
      "OrderedDict([('trip_id', '9080545'),\n",
      "             ('starttime', '3/31/2016 23:30'),\n",
      "             ('stoptime', '3/31/2016 23:46'),\n",
      "             ('bikeid', '2295'),\n",
      "             ('tripduration', '926'),\n",
      "             ('from_station_id', '156'),\n",
      "             ('from_station_name', 'Clark St & Wellington Ave'),\n",
      "             ('to_station_id', '166'),\n",
      "             ('to_station_name', 'Ashland Ave & Wrightwood Ave'),\n",
      "             ('usertype', 'Subscriber'),\n",
      "             ('gender', 'Male'),\n",
      "             ('birthyear', '1990')])\n",
      "\n",
      "City: Washington\n",
      "OrderedDict([('Duration (ms)', '427387'),\n",
      "             ('Start date', '3/31/2016 22:57'),\n",
      "             ('End date', '3/31/2016 23:04'),\n",
      "             ('Start station number', '31602'),\n",
      "             ('Start station', 'Park Rd & Holmead Pl NW'),\n",
      "             ('End station number', '31207'),\n",
      "             ('End station', 'Georgia Ave and Fairmont St NW'),\n",
      "             ('Bike number', 'W20842'),\n",
      "             ('Member Type', 'Registered')])\n"
     ]
    }
   ],
   "source": [
    "def print_first_point(filename):\n",
    "    \"\"\"\n",
    "    This function prints and returns the first data point (second row) from\n",
    "    a csv file that includes a header row.\n",
    "    \"\"\"\n",
    "    # print city name for reference\n",
    "    city = filename.split('-')[0].split('/')[-1]\n",
    "    print('\\nCity: {}'.format(city))\n",
    "    \n",
    "    with open(filename, 'r') as f_in:\n",
    "        ## Use the csv library to set up a DictReader object. ##\n",
    "        trip_reader = csv.DictReader(f_in)\n",
    "        \n",
    "        ## Use a function on the DictReader object to read the  ##\n",
    "        ## first trip from the data file and store it in a variable.     ##\n",
    "        first_trip = next(trip_reader)\n",
    "        \n",
    "        ## Use the pprint library to print the first trip. ##\n",
    "\n",
    "        pprint(first_trip)\n",
    "    # output city name and first trip for later testing\n",
    "    return (city, first_trip)\n",
    "\n",
    "# list of files for each city\n",
    "data_files = ['./data/NYC-CitiBike-2016.csv',\n",
    "              './data/Chicago-Divvy-2016.csv',\n",
    "              './data/Washington-CapitalBikeshare-2016.csv',]\n",
    "\n",
    "# print the first trip from each file, store in dictionary\n",
    "example_trips = {}\n",
    "for data_file in data_files:\n",
    "    city, first_trip = print_first_point(data_file)\n",
    "    example_trips[city] = first_trip\n"
   ]
  },
  {
   "cell_type": "markdown",
   "metadata": {},
   "source": [
    "\n",
    "<a id='condensing'></a>\n",
    "### Condensing the Trip Data\n",
    "\n",
    "It should also be observable from the above printout that each city provides different information. Even where the information is the same, the column names and formats are sometimes different. To make things as simple as possible when we get to the actual exploration, we should trim and clean the data. Cleaning the data makes sure that the data formats across the cities are consistent, while trimming focuses only on the parts of the data we are most interested in to make the exploration easier to work with.\n",
    "\n",
    "we will generate new data files with five values of interest for each trip: trip duration, starting month, starting hour, day of the week, and user type. Each of these may require additional wrangling depending on the city:\n",
    "\n",
    "- **Duration**: This has been given to us in seconds (New York, Chicago) or milliseconds (Washington). A more natural unit of analysis will be if all the trip durations are given in terms of minutes.\n",
    "- **Month**, **Hour**, **Day of Week**: Ridership volume is likely to change based on the season, time of day, and whether it is a weekday or weekend. Use the start time of the trip to obtain these values. The New York City data includes the seconds in their timestamps, while Washington and Chicago do not. The [`datetime`](https://docs.python.org/3/library/datetime.html) package will be very useful here to make the needed conversions.\n",
    "- **User Type**: It is possible that users who are subscribed to a bike-share system will have different patterns of use compared to users who only have temporary passes. Washington divides its users into two types: 'Registered' for users with annual, monthly, and other longer-term subscriptions, and 'Casual', for users with 24-hour, 3-day, and other short-term passes. The New York and Chicago data uses 'Subscriber' and 'Customer' for these groups, respectively. For consistency, you will convert the Washington labels to match the other two.\n",
    "\n"
   ]
  },
  {
   "cell_type": "code",
   "execution_count": 3,
   "metadata": {
    "scrolled": true
   },
   "outputs": [],
   "source": [
    "def duration_in_mins(datum, city):\n",
    "    \"\"\"\n",
    "    Takes as input a dictionary containing info about a single trip (datum) and\n",
    "    its origin city (city) a'tripduration'nd returns the trip duration in units of minutes.\n",
    "    \"\"\"\n",
    "    if city == 'Washington':\n",
    "        duration = int(datum['Duration (ms)']) / 60000\n",
    "    else: \n",
    "        duration = int(datum['tripduration']) / 60\n",
    "        \n",
    "    return round(duration, 3) \n",
    "\n",
    "\n",
    "# Some tests to check that your code works. There should be no output if all of\n",
    "# the assertions pass.\n",
    "tests = {'NYC': 13.9833,\n",
    "         'Chicago': 15.4333,\n",
    "         'Washington': 7.1231}\n",
    "\n",
    "for city in tests:\n",
    "    assert abs(duration_in_mins(example_trips[city], city) - tests[city]) < .001"
   ]
  },
  {
   "cell_type": "code",
   "execution_count": 21,
   "metadata": {},
   "outputs": [],
   "source": [
    "def time_of_trip(datum, city):\n",
    "    \"\"\"\n",
    "    Takes as input a dictionary containing info about a single trip (datum) and\n",
    "    its origin city (city) and returns the month, hour, and day of the week in\n",
    "    which the trip was made.\n",
    "    \"\"\"\n",
    "     \n",
    "    if city == \"Washington\":\n",
    "        my_date = datetime.strptime(datum['Start date'],\"%m/%d/%Y %H:%M\")\n",
    "    elif city == 'NYC':\n",
    "        my_date = datetime.strptime(datum['starttime'],\"%m/%d/%Y %H:%M:%S\")\n",
    "    elif city == 'Chicago':\n",
    "        my_date = datetime.strptime(datum['starttime'],\"%m/%d/%Y %H:%M\")\n",
    "    \n",
    "    month = my_date.month\n",
    "    hour = my_date.hour\n",
    "    day_of_week = my_date.strftime(\"%A\")\n",
    "     \n",
    "    return (month, hour, day_of_week)\n",
    "\n",
    "# Some tests to check that your code works. There should be no output if all of\n",
    "# the assertions pass. \n",
    "tests = {'NYC': (1, 0, 'Friday'),\n",
    "         'Chicago': (3, 23, 'Thursday'),\n",
    "         'Washington': (3, 22, 'Thursday')}\n",
    "\n",
    "for city in tests:\n",
    "    assert time_of_trip(example_trips[city], city) == tests[city]"
   ]
  },
  {
   "cell_type": "code",
   "execution_count": 5,
   "metadata": {},
   "outputs": [],
   "source": [
    "def type_of_user(datum, city):\n",
    "    \"\"\"\n",
    "    Takes as input a dictionary containing info about a single trip (datum) and\n",
    "    its origin city (city) and returns the type of system user that made the\n",
    "    trip.\n",
    "    \"\"\"\n",
    "     \n",
    "    if city == \"Washington\":\n",
    "        if datum[\"Member Type\"] == \"Registered\":\n",
    "            user_type = \"Subscriber\"\n",
    "        elif datum[\"Member Type\"] == \"Casual\":\n",
    "            user_type = \"Customer\"\n",
    "    else:\n",
    "        user_type = datum[\"usertype\"]\n",
    "    return user_type\n",
    "\n",
    "\n",
    "# Some tests to check that your code works. There should be no output if all of\n",
    "# the assertions pass.\n",
    "tests = {'NYC': 'Customer',\n",
    "         'Chicago': 'Subscriber',\n",
    "         'Washington': 'Subscriber'}\n",
    "\n",
    "for city in tests:\n",
    "    assert type_of_user(example_trips[city], city) == tests[city]"
   ]
  },
  {
   "cell_type": "code",
   "execution_count": 6,
   "metadata": {},
   "outputs": [],
   "source": [
    "def condense_data(in_file, out_file, city):\n",
    "    \"\"\"\n",
    "    This function takes full data from the specified input file\n",
    "    and writes the condensed data to a specified output file. The city\n",
    "    argument determines how the input file will be parsed.\n",
    "    \"\"\"\n",
    "    \n",
    "    with open(out_file, 'w') as f_out, open(in_file, 'r') as f_in:\n",
    "        # set up csv DictWriter object - writer requires column names for the\n",
    "        # first row as the \"fieldnames\" argument\n",
    "        out_colnames = ['duration', 'month', 'hour', 'day_of_week', 'user_type']        \n",
    "        trip_writer = csv.DictWriter(f_out, fieldnames = out_colnames)\n",
    "        trip_writer.writeheader()\n",
    "        \n",
    "        ## set up csv DictReader object ##\n",
    "        trip_reader = csv.DictReader(f_in)\n",
    "\n",
    "        # collect data from and process each row\n",
    "        for row in trip_reader:\n",
    "            # set up a dictionary to hold the values for the cleaned and trimmed\n",
    "            # data point\n",
    "            new_point = {}\n",
    "\n",
    "            ## use the helper functions to get the cleaned data from  ##\n",
    "            ## the original data dictionaries.                              ##\n",
    "            ## Note that the keys for the new_point dictionary should match ##\n",
    "            ## the column names set in the DictWriter object above.         ##\n",
    "            \n",
    "            point_duration = duration_in_mins(row, city)\n",
    "            point_month, point_hour, point_day_of_week = time_of_trip(row, city)\n",
    "            point_user_type = type_of_user(row, city)\n",
    "            \n",
    "            new_point = {\n",
    "                'duration': point_duration,\n",
    "                'month': point_month,\n",
    "                'hour': point_hour,\n",
    "                'day_of_week': point_day_of_week,\n",
    "                'user_type': point_user_type}\n",
    "\n",
    "            ## write the processed information to the output file. ##\n",
    "            trip_writer.writerow(new_point)\n",
    "            "
   ]
  },
  {
   "cell_type": "code",
   "execution_count": 7,
   "metadata": {},
   "outputs": [
    {
     "name": "stdout",
     "output_type": "stream",
     "text": [
      "\n",
      "City: Washington\n",
      "OrderedDict([('duration', '7.123'),\n",
      "             ('month', '3'),\n",
      "             ('hour', '22'),\n",
      "             ('day_of_week', 'Thursday'),\n",
      "             ('user_type', 'Subscriber')])\n",
      "\n",
      "City: Chicago\n",
      "OrderedDict([('duration', '15.433'),\n",
      "             ('month', '3'),\n",
      "             ('hour', '23'),\n",
      "             ('day_of_week', 'Thursday'),\n",
      "             ('user_type', 'Subscriber')])\n",
      "\n",
      "City: NYC\n",
      "OrderedDict([('duration', '13.983'),\n",
      "             ('month', '1'),\n",
      "             ('hour', '0'),\n",
      "             ('day_of_week', 'Friday'),\n",
      "             ('user_type', 'Customer')])\n"
     ]
    }
   ],
   "source": [
    "# testing the code\n",
    "city_info = {'Washington': {'in_file': './data/Washington-CapitalBikeshare-2016.csv',\n",
    "                            'out_file': './data/Washington-2016-Summary.csv'},\n",
    "             'Chicago': {'in_file': './data/Chicago-Divvy-2016.csv',\n",
    "                         'out_file': './data/Chicago-2016-Summary.csv'},\n",
    "             'NYC': {'in_file': './data/NYC-CitiBike-2016.csv',\n",
    "                     'out_file': './data/NYC-2016-Summary.csv'}}\n",
    "\n",
    "for city, filenames in city_info.items():\n",
    "    condense_data(filenames['in_file'], filenames['out_file'], city)\n",
    "    print_first_point(filenames['out_file'])"
   ]
  },
  {
   "cell_type": "markdown",
   "metadata": {},
   "source": [
    "\n",
    "<a id='eda'></a>\n",
    "## Exploratory Data Analysis\n",
    "\n",
    "Now that we have the data collected and wrangled, we're ready to start exploring the data. In this section we will write some code to compute descriptive statistics from the data. we will also be using the `matplotlib` library to create some basic histograms of the data.\n",
    "\n",
    "<a id='statistics'></a>\n",
    "### Statistics\n",
    "\n",
    "First, let's compute some basic counts. The first cell below contains a function that uses the csv module to iterate through a provided data file, returning the number of trips made by subscribers and customers.\n",
    "\n",
    "**Question**: Which city has the highest number of trips? Which city has the highest proportion of trips made by subscribers? Which city has the highest proportion of trips made by short-term customers?\n",
    "\n",
    "**Answer**: NYC has the highest number trips (276798 trips), NYC city has the highest proportion of trips made by subscribers (%88.84), Chicago has the highest proportion of trips made by short-term customers (%23.77)\n",
    "            "
   ]
  },
  {
   "cell_type": "code",
   "execution_count": 8,
   "metadata": {},
   "outputs": [],
   "source": [
    "def number_of_trips(filename):\n",
    "    \"\"\"\n",
    "    This function reads in a file with trip data and reports the number of\n",
    "    trips made by subscribers, customers, and total overall.\n",
    "    \"\"\"\n",
    "    with open(filename, 'r') as f_in:\n",
    "        # set up csv reader object\n",
    "        reader = csv.DictReader(f_in)\n",
    "        \n",
    "        # initialize count variables\n",
    "        n_subscribers = 0\n",
    "        n_customers = 0\n",
    "        \n",
    "        # tally up ride types\n",
    "        for row in reader:\n",
    "            if row['user_type'] == 'Subscriber':\n",
    "                n_subscribers += 1\n",
    "            else:\n",
    "                n_customers += 1\n",
    "        \n",
    "        # compute total number of rides\n",
    "        n_total = n_subscribers + n_customers\n",
    "        \n",
    "        # return tallies as a tuple\n",
    "        return(n_subscribers, n_customers, n_total)"
   ]
  },
  {
   "cell_type": "code",
   "execution_count": 9,
   "metadata": {},
   "outputs": [
    {
     "name": "stdout",
     "output_type": "stream",
     "text": [
      "Washington \n",
      " total trips :  66326 \n",
      " number of subscribers :  51753 \n",
      " number of customers :  14573 \n",
      " proportion of subscribers : % 78.03 \n",
      " proportion of customers : % 21.97 \n",
      "\n",
      "\n",
      "Chicago \n",
      " total trips :  72131 \n",
      " number of subscribers :  54982 \n",
      " number of customers :  17149 \n",
      " proportion of subscribers : % 76.23 \n",
      " proportion of customers : % 23.77 \n",
      "\n",
      "\n",
      "NYC \n",
      " total trips :  276798 \n",
      " number of subscribers :  245896 \n",
      " number of customers :  30902 \n",
      " proportion of subscribers : % 88.84 \n",
      " proportion of customers : % 11.16 \n",
      "\n",
      "\n"
     ]
    }
   ],
   "source": [
    "## Modify this and the previous cell to answer Question 4a. Remember to run ##\n",
    "## the function on the cleaned data files you created from Question 3.      ##\n",
    "data_files = {'Washington': './data/Washington-2016-Summary.csv',\n",
    "              'Chicago': './data/Chicago-2016-Summary.csv',\n",
    "              'NYC': './data/NYC-2016-Summary.csv'}\n",
    "data_info = {}\n",
    "\n",
    "for city, file in data_files.items():\n",
    "    n_subscribers, n_customers, n_total = number_of_trips(file)\n",
    "    p_subscribers = round((n_subscribers / n_total) * 100, 2)\n",
    "    p_customers = round((n_customers / n_total) * 100 , 2)\n",
    "    \n",
    "    data_info[city] = {'n_subscribers':n_subscribers,\n",
    "                     'n_customers': n_customers,\n",
    "                     'n_total': n_total,\n",
    "                     'p_subscribers': p_subscribers,\n",
    "                     'p_customers': p_customers}\n",
    "    \n",
    "# print all iformation\n",
    "for city, info in data_info.items():\n",
    "    print(city , \"\\n\",\n",
    "          'total trips : ' ,  info['n_total'] , '\\n' ,\n",
    "          'number of subscribers : ' , info['n_subscribers'], '\\n',\n",
    "          'number of customers : ', info['n_customers'], '\\n',\n",
    "          'proportion of subscribers : %', info['p_subscribers'], '\\n',\n",
    "          'proportion of customers : %', info['p_customers'],'\\n\\n')\n",
    "    \n",
    "    \n",
    "    "
   ]
  },
  {
   "cell_type": "markdown",
   "metadata": {},
   "source": [
    "\n",
    "**Question**: Bike-share systems are designed for riders to take short trips. Most of the time, users are allowed to take trips of 30 minutes or less with no additional charges, with overage charges made for trips of longer than that duration. What is the average trip length for each city? What proportion of rides made in each city are longer than 30 minutes?\n",
    "\n",
    "**Answer**: average trip length Chicago is 16.56 , NYC is 15.81 , Washington is 18.93. and the proportion of rides that takes over 30 minutes Chicago is 8.33 , NYC is 7.3 , Washington is 10.84."
   ]
  },
  {
   "cell_type": "code",
   "execution_count": 23,
   "metadata": {
    "scrolled": true
   },
   "outputs": [],
   "source": [
    "##  The csv module reads in all of the data as strings, including  ##\n",
    "## numeric values. we will need a function to convert the strings      ##\n",
    "## into an appropriate numeric type before we aggregate data.          ##\n",
    "\n",
    "def duration_of_trip(filename):\n",
    "    \n",
    "    with open(filename) as f_in:\n",
    "        reader = csv.DictReader(f_in)\n",
    "        \n",
    "        #initialize count variables\n",
    "        total_trips = 0\n",
    "        total_trips_duration = 0\n",
    "        trips_over_30 = 0\n",
    "        \n",
    "        for row in reader:\n",
    "            # add this trip duration to total trips durations\n",
    "            total_trips_duration += float(row['duration'])\n",
    "            \n",
    "            # count the trip to the total\n",
    "            total_trips += 1\n",
    "            \n",
    "            # count if it is over 30 minutes\n",
    "            if float(row['duration']) > 30:\n",
    "                trips_over_30 += 1\n",
    "        # compute the proportion of the trips over 30 minutes        \n",
    "        p_over_30 = round((trips_over_30 / total_trips) * 100 , 2)\n",
    "        \n",
    "        # compute the total average trips\n",
    "        avg_trips = round(total_trips_duration / total_trips, 2)\n",
    "        \n",
    "        return(p_over_30, avg_trips)\n",
    "            "
   ]
  },
  {
   "cell_type": "code",
   "execution_count": 27,
   "metadata": {},
   "outputs": [
    {
     "name": "stdout",
     "output_type": "stream",
     "text": [
      "{'Chicago': {'average trips': 16.56, 'p of trips  over 30': 8.33},\n",
      " 'NYC': {'average trips': 15.81, 'p of trips  over 30': 7.3},\n",
      " 'Washington': {'average trips': 18.93, 'p of trips  over 30': 10.84}}\n"
     ]
    }
   ],
   "source": [
    "# printing the duration information\n",
    "duration_info = {}\n",
    "for city, file in data_files.items():\n",
    "    p_over_30 , avg_trips = duration_of_trip(file)\n",
    "    duration_info[city] = {'p of trips  over 30': p_over_30,\n",
    "                           'average trips': avg_trips}\n",
    "pprint(duration_info)    "
   ]
  },
  {
   "cell_type": "markdown",
   "metadata": {},
   "source": [
    "**Question**: which type of user in NYC takes longer rides on average: Subscribers or Customers?\n",
    "\n",
    "**Answer**:  average subscriber duration :  13.68 <br> \n",
    "             average customer duration :  32.78"
   ]
  },
  {
   "cell_type": "code",
   "execution_count": 28,
   "metadata": {},
   "outputs": [
    {
     "name": "stdout",
     "output_type": "stream",
     "text": [
      "average subscriber duration :  13.68 average customer duration :  32.78\n"
     ]
    }
   ],
   "source": [
    "# initialize count variables\n",
    "total_subscriber_trips = 0\n",
    "total_subscriber_duration = 0\n",
    "total_customer_trips = 0\n",
    "total_customer_duration = 0\n",
    "\n",
    "# reading NYC city file\n",
    "with open('./data/NYC-2016-Summary.csv') as f_in:\n",
    "    reader = csv.DictReader(f_in)\n",
    "\n",
    "    for row in reader:\n",
    "        # check the type of user\n",
    "        if row['user_type'] == 'Subscriber':\n",
    "            #add trip's duration to subscriber's duration\n",
    "            total_subscriber_duration += float(row['duration'])\n",
    "            \n",
    "            # count the trip \n",
    "            total_subscriber_trips += 1\n",
    "        else:\n",
    "            # add trip's duration to customer's duration\n",
    "            total_customer_duration += float(row['duration'])\n",
    "            #count the trip\n",
    "            total_customer_trips += 1\n",
    "            \n",
    "    # compute averages for both \n",
    "    avg_subscriber_duration = round((total_subscriber_duration / total_subscriber_trips) , 2)\n",
    "    avg_customer_duration = round((total_customer_duration / total_customer_trips) , 2)\n",
    "    \n",
    "# printing the information\n",
    "print('average subscriber duration : ', avg_subscriber_duration,\n",
    "      'average customer duration : ', avg_customer_duration)\n"
   ]
  },
  {
   "cell_type": "markdown",
   "metadata": {},
   "source": [
    "<a id='visualizations'></a>\n",
    "### Visualizations\n",
    "\n",
    "The last set of values that we computed should have pulled up an interesting result. While the mean trip time for Subscribers is well under 30 minutes, the mean trip time for Customers is actually _above_ 30 minutes! It will be interesting for us to look at how the trip times are distributed. In order to do this, a new library will be introduced here, `matplotlib`. we will now use these functions to create a histogram of the trip times for NYC."
   ]
  },
  {
   "cell_type": "code",
   "execution_count": 29,
   "metadata": {},
   "outputs": [
    {
     "data": {
      "image/png": "[encoded data removed]",
      "text/plain": [
       "<Figure size 432x288 with 1 Axes>"
      ]
     },
     "metadata": {},
     "output_type": "display_data"
    }
   ],
   "source": [
    "## collecting all of the trip times as a list ##\n",
    "## and then use pyplot functions to generate a histogram of trip times.     ##\n",
    "with open('./data/NYC-2016-Summary.csv') as f_in:\n",
    "    reader = csv.DictReader(f_in)\n",
    "    \n",
    "    trip_durations = []\n",
    "    for row in reader:\n",
    "        trip_durations.append(float(row['duration']))\n",
    "\n",
    "plt.hist(trip_durations, range(0,50))\n",
    "plt.title('NYC time distripution')\n",
    "plt.xlabel('Duration (m)')\n",
    "plt.show()\n",
    "\n"
   ]
  },
  {
   "cell_type": "markdown",
   "metadata": {},
   "source": [
    "**Question**: Use the parameters of the `.hist()` function to plot the distribution of trip times for the Subscribers in NYC. Do the same thing for only the Customers. Add limits to the plots so that only trips of duration less than 75 minutes are plotted. Set the plots up so that bars are in five-minute wide intervals. For each group, where is the peak of each distribution? How would you describe the shape of each distribution?\n",
    "\n",
    "**Answer**: working with NYC <br>\n",
    "            Subscribers peak : about 7 minutes <br>\n",
    "            Subscribers shape : skewed to right <br>\n",
    "            Customers peak : about 20 minutes <br>\n",
    "            Subscribers shape : bell shaped\n",
    "            "
   ]
  },
  {
   "cell_type": "code",
   "execution_count": 15,
   "metadata": {},
   "outputs": [
    {
     "data": {
      "image/png": "[encoded data removed]",
      "text/plain": [
       "<Figure size 432x288 with 1 Axes>"
      ]
     },
     "metadata": {},
     "output_type": "display_data"
    },
    {
     "data": {
      "image/png": "[encoded data removed]",
      "text/plain": [
       "<Figure size 432x288 with 1 Axes>"
      ]
     },
     "metadata": {},
     "output_type": "display_data"
    }
   ],
   "source": [
    "## Use open function to open the csv file. ##\n",
    "with open('./data/NYC-2016-Summary.csv') as f_in:\n",
    "    reader = csv.DictReader(f_in)\n",
    "    \n",
    "    # initialize count variables\n",
    "    subscribers_durations = []\n",
    "    customers_durations = []\n",
    "    \n",
    "    # read rows in the file\n",
    "    for row in reader:\n",
    "        # check the user type\n",
    "        if row['user_type'] == 'Subscriber':\n",
    "            subscribers_durations.append(float(row['duration']))           \n",
    "        else:\n",
    "            customers_durations.append(float(row['duration']))\n",
    "            \n",
    "# visualize histogram of subscribers duration        \n",
    "plt.hist(subscribers_durations, bins = [n for n in range(0, 75, 5)], range =(0,75))\n",
    "plt.title('Distribution of Subscribers Durations')\n",
    "plt.xlabel('Trip Duration (m)')\n",
    "plt.show()\n",
    "\n",
    "# visualize histogram of customers duration   \n",
    "plt.hist(customers_durations, bins = [n for n in range(0, 75, 5)], range =(0,75))\n",
    "plt.title('Distribution of Customers Durations')\n",
    "plt.xlabel('Trip Duration (m)')\n",
    "plt.show()"
   ]
  },
  {
   "cell_type": "markdown",
   "metadata": {
    "collapsed": true
   },
   "source": [
    "<a id='eda_continued'></a>\n",
    "## Performing Your Own Analysis\n",
    "\n",
    "So far, we've performed an initial exploration into the data available. we have compared the relative volume of trips made between three U.S. cities and the ratio of trips made by Subscribers and Customers. For NYC, we have investigated differences between Subscribers and Customers in terms of how long a typical trip lasts. \n",
    "\n",
    "**Question**: Continue the investigation by exploring another question that could be answered by the data available. Document the question you want to explore below. Our investigation should involve at least two variables and should compare at least two groups. We should also use at least one visualization as part of your explorations.\n",
    "\n",
    "**Answer**: Working with Washington city.<br>\n",
    "During what time of day is the system used the most? Is there a difference in usage patterns for Subscribers and Customers?\n",
    "answer : <br>\n",
    "Considering all trips it is clear there is a peak on around 8:00 and also another peak on 17:00 . <br>\n",
    "If we take Subscribers trips we see that there is a peak on 8:00 and 17:00 and the reason it similer to total trips because %78.03 (solved earlier) of trips done by Subscribers (I guess many Subscribers rely on Bicycle-sharing systems to go to work and come back). <br>\n",
    "If we take Customers trips we see the peak from 12:00 to 17:00. <br>"
   ]
  },
  {
   "cell_type": "code",
   "execution_count": 30,
   "metadata": {},
   "outputs": [
    {
     "data": {
      "image/png": "[encoded data removed]",
      "text/plain": [
       "<Figure size 432x288 with 1 Axes>"
      ]
     },
     "metadata": {},
     "output_type": "display_data"
    },
    {
     "data": {
      "image/png": "[encoded data removed]",
      "text/plain": [
       "<Figure size 432x288 with 1 Axes>"
      ]
     },
     "metadata": {},
     "output_type": "display_data"
    },
    {
     "data": {
      "image/png": "[encoded data removed]",
      "text/plain": [
       "<Figure size 432x288 with 1 Axes>"
      ]
     },
     "metadata": {},
     "output_type": "display_data"
    }
   ],
   "source": [
    "#initialize count variables\n",
    "subscriber_renting_time = []\n",
    "customer_renting_time = []\n",
    "\n",
    "with open('./data/Washington-2016-Summary.csv') as f_in:\n",
    "    reader = csv.DictReader(f_in)\n",
    "    \n",
    "    # read rows of the file\n",
    "    for row in reader:\n",
    "        # check the user type\n",
    "        if row['user_type'] == 'Subscriber':\n",
    "            subscriber_renting_time.append(float(row['hour']))\n",
    "        else:\n",
    "            customer_renting_time.append(float(row['hour']))\n",
    "            \n",
    "# visualize histogram of all users renting time   \n",
    "plt.hist((subscriber_renting_time + customer_renting_time) , bins = range(0,24))\n",
    "plt.title('Trips Time Distripution')\n",
    "plt.xlabel('hour (24 based)')\n",
    "plt.show()\n",
    "\n",
    "# visualize histogram of subscribers renting time \n",
    "plt.hist(subscriber_renting_time, bins = range(0,24))\n",
    "plt.title('Subscribers Trips Time Distripution')\n",
    "plt.xlabel('hour (24 based)')\n",
    "plt.show() \n",
    "\n",
    "# visualize histogram of customers renting time \n",
    "plt.hist(customer_renting_time, bins = range(0,24))\n",
    "plt.title('Customers Trips Time Distripution')\n",
    "plt.xlabel('hour (24 based)')\n",
    "plt.show() "
   ]
  },
  {
   "cell_type": "markdown",
   "metadata": {},
   "source": [
    "<a id='conclusions'></a>\n",
    "## Conclusions\n",
    "\n",
    "This is only a sampling of the data analysis process: from generating questions, wrangling the data, and to exploring the data. Normally, at this point in the data analysis process, we might want to draw conclusions about the data by performing a statistical test or fitting the data to a model for making predictions. There are also a lot of potential analyses that could be performed on the data which are not possible with only the data provided. For example, detailed location data has not been investigated. Where are the most commonly used docks? What are the most common routes? As another example, weather has potential to have a large impact on daily ridership. How much is ridership impacted when there is rain or snow? Are subscribers or customers affected more by changes in weather?\n"
   ]
  },
  {
   "cell_type": "code",
   "execution_count": 31,
   "metadata": {},
   "outputs": [
    {
     "data": {
      "text/plain": [
       "0"
      ]
     },
     "execution_count": 31,
     "metadata": {},
     "output_type": "execute_result"
    }
   ],
   "source": [
    "from subprocess import call\n",
    "call(['python', '-m', 'nbconvert', 'Bike_Share_Analysis.ipynb'])\n"
   ]
  }
 ],
 "metadata": {
  "anaconda-cloud": {},
  "kernelspec": {
   "display_name": "Python 3",
   "language": "python",
   "name": "python3"
  },
  "language_info": {
   "codemirror_mode": {
    "name": "ipython",
    "version": 3
   },
   "file_extension": ".py",
   "mimetype": "text/x-python",
   "name": "python",
   "nbconvert_exporter": "python",
   "pygments_lexer": "ipython3",
   "version": "3.6.5"
  }
 },
 "nbformat": 4,
 "nbformat_minor": 1
}
